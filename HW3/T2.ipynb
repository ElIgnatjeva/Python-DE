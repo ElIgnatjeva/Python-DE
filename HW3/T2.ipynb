{
 "cells": [
  {
   "cell_type": "code",
   "execution_count": null,
   "id": "08ec33d3",
   "metadata": {},
   "outputs": [],
   "source": [
    "import pandas as pd\n",
    "from datetime import datetime as dt\n",
    "import matplotlib.pyplot as plt\n",
    "\n",
    "df = pd.read_csv(\"Electronic_sales_Sep2023-Sep2024.csv\", sep=\",\")\n",
    "\n",
    "# # доход по каждому методу доставки\n",
    "df[\"Overall\"] = df[\"Total Price\"] + df[\"Add-on Total\"]\n",
    "cols = df[[\"Shipping Type\", \"Overall\"]]\n",
    "overall_by_shipping_type = cols.groupby(\"Shipping Type\")[\"Overall\"].sum().sort_values(ascending=False)\n",
    "overall_by_shipping_type.columns = [\"Shipping Type\", \"Overall\"]\n",
    "print(overall_by_shipping_type)"
   ]
  },
  {
   "cell_type": "code",
   "execution_count": null,
   "id": "c7c06b21",
   "metadata": {},
   "outputs": [],
   "source": [
    "# по каждому типу продукта\n",
    "cols = df[[\"Product Type\", \"Overall\"]]\n",
    "overall_by_product_type = cols.groupby(\"Product Type\")[\"Overall\"].sum().sort_values(ascending=False)\n",
    "overall_by_product_type.columns = [\"Product Type\", \"Overall\"]\n",
    "print(overall_by_product_type)"
   ]
  },
  {
   "cell_type": "code",
   "execution_count": null,
   "id": "d40417d5",
   "metadata": {},
   "outputs": [],
   "source": [
    "# по дополнительным услугам за каждый месяц\n",
    "df[\"Purchase Date\"] = pd.to_datetime(df[\"Purchase Date\"])\n",
    "df[\"Year\"] = df[\"Purchase Date\"].dt.year\n",
    "df[\"Year-Month\"] = df[\"Purchase Date\"].dt.to_period('M')\n",
    "cols = df[[\"Year-Month\", \"Add-on Total\"]]\n",
    "monthly_addons_revenue = cols.groupby(\"Year-Month\")[\"Add-on Total\"].sum()\n",
    "monthly_addons_revenue.columns = [\"Month\", \"Revenue\"]\n",
    "print(monthly_addons_revenue)"
   ]
  },
  {
   "cell_type": "code",
   "execution_count": null,
   "id": "d21e7511",
   "metadata": {},
   "outputs": [],
   "source": [
    "# по дополнительным услугам за каждый квартал\n",
    "df[\"Quarter\"] = df[\"Purchase Date\"].dt.quarter\n",
    "df[\"Year-Quarter\"] = df[\"Purchase Date\"].dt.to_period('Q')\n",
    "cols = df[[\"Year-Quarter\", \"Add-on Total\"]]\n",
    "quarterly_addons_revenue = cols.groupby(\"Year-Quarter\")[\"Add-on Total\"].sum()\n",
    "quarterly_addons_revenue.columns = [\"Quarter\", \"Revenue\"]\n",
    "print(quarterly_addons_revenue)"
   ]
  },
  {
   "cell_type": "code",
   "execution_count": null,
   "id": "d2fa14b9",
   "metadata": {},
   "outputs": [],
   "source": [
    "fig, axes = plt.subplots(2, 2, figsize=(16, 12))\n",
    "fig.suptitle('Анализ доходов по различным категориям', fontsize=16, fontweight='bold')\n",
    "axes[0, 0].bar(overall_by_shipping_type.index, overall_by_shipping_type.values, color='blue', alpha=0.8)\n",
    "axes[0, 0].set_title('Доход по методам доставки', fontweight='bold')\n",
    "axes[0, 0].tick_params(axis='x', rotation=45)\n",
    "for i, v in enumerate(overall_by_shipping_type.values):\n",
    "    axes[0, 0].text(i, v + v*0.01, f'{v:,.0f}', ha='center', va='bottom')\n",
    "\n",
    "axes[0, 1].bar(overall_by_product_type.index, overall_by_product_type.values, color='purple', alpha=0.8)\n",
    "axes[0, 1].set_title('Доход по каждому типу продукта', fontweight='bold')\n",
    "axes[0, 1].tick_params(axis='x', rotation=45)\n",
    "for i, v in enumerate(overall_by_product_type.values):\n",
    "    axes[0, 1].text(i, v + v*0.01, f'{v:,.0f}', ha='center', va='bottom')\n",
    "\n",
    "axes[1, 0].bar(monthly_addons_revenue.index.astype(str), monthly_addons_revenue.values, color='green')\n",
    "axes[1, 0].set_title('Доход по дополнительным услугам за каждый месяц', fontweight='bold')\n",
    "axes[1, 0].tick_params(axis='x', rotation=45)\n",
    "axes[1, 0].grid(True, alpha=0.3)\n",
    "\n",
    "axes[1, 1].bar(quarterly_addons_revenue.index.astype(str), quarterly_addons_revenue.values, color='coral', alpha=0.8)\n",
    "axes[1, 1].set_title('Доход по дополнительным услугам за каждый квартал', fontweight='bold')\n",
    "axes[1, 1].tick_params(axis='x', rotation=45)\n",
    "for i, v in enumerate(quarterly_addons_revenue.values):\n",
    "    axes[1, 1].text(i, v + v*0.01, f'{v:,.0f}', ha='center', va='bottom')\n",
    "\n",
    "plt.tight_layout()\n",
    "plt.show()"
   ]
  }
 ],
 "metadata": {
  "kernelspec": {
   "display_name": "de_env (3.12.4)",
   "language": "python",
   "name": "python3"
  },
  "language_info": {
   "codemirror_mode": {
    "name": "ipython",
    "version": 3
   },
   "file_extension": ".py",
   "mimetype": "text/x-python",
   "name": "python",
   "nbconvert_exporter": "python",
   "pygments_lexer": "ipython3",
   "version": "3.12.4"
  }
 },
 "nbformat": 4,
 "nbformat_minor": 5
}
