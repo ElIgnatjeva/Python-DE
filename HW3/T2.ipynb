{
 "cells": [
  {
   "cell_type": "code",
   "execution_count": null,
   "id": "08ec33d3",
   "metadata": {},
   "outputs": [],
   "source": [
    "import pandas as pd\n",
    "from datetime import datetime\n",
    "import re\n",
    "\n",
    "df = pd.read_csv(\"Electronic_sales_Sep2023-Sep2024.csv\", sep=\",\")\n",
    "\n",
    "# # доход по каждому методу доставки\n",
    "df[\"Overall\"] = df[\"Total Price\"] + df[\"Add-on Total\"]\n",
    "cols = df[[\"Shipping Type\", \"Overall\"]]\n",
    "overall_by_shipping_type = cols.groupby(\"Shipping Type\")[\"Overall\"].sum().reset_index()\n",
    "overall_by_shipping_type.columns = [\"Shipping Type\", \"Overall\"]\n",
    "print(overall_by_shipping_type)"
   ]
  },
  {
   "cell_type": "code",
   "execution_count": null,
   "id": "c7c06b21",
   "metadata": {},
   "outputs": [],
   "source": [
    "# по каждому типу продукта\n",
    "cols = df[[\"Product Type\", \"Overall\"]]\n",
    "overall_by_product_type = cols.groupby(\"Product Type\")[\"Overall\"].sum().reset_index()\n",
    "overall_by_product_type.columns = [\"Product Type\", \"Overall\"]\n",
    "print(overall_by_product_type)"
   ]
  },
  {
   "cell_type": "code",
   "execution_count": null,
   "id": "d40417d5",
   "metadata": {},
   "outputs": [],
   "source": [
    "# по дополнительным услугам за каждый месяц\n",
    "\n",
    "cols = df[[\"Purchase Date\", \"Add-on Total\"]]\n",
    "df[\"Month\"] = df[\"Purchase Date\"].filter(regex=r\"(\\d{4})-(\\d{2})-(\\d{2})\")\n",
    "print(df[\"Month\"])\n",
    "\n",
    "\n",
    "# match = re.match(r\"\\d{4}-\\d{2}-\\d{2}\", str(df[\"Purchase Date\"][0]))\n",
    "# print(match)\n",
    "# if match:\n",
    "#     date_obj = datetime.strptime(str(df[\"Purchase Date\"][0]), \"%Y-%m-%d\")\n",
    "#     print(date_obj.month)\n",
    "\n"
   ]
  }
 ],
 "metadata": {
  "kernelspec": {
   "display_name": "de_env (3.12.4)",
   "language": "python",
   "name": "python3"
  },
  "language_info": {
   "codemirror_mode": {
    "name": "ipython",
    "version": 3
   },
   "file_extension": ".py",
   "mimetype": "text/x-python",
   "name": "python",
   "nbconvert_exporter": "python",
   "pygments_lexer": "ipython3",
   "version": "3.12.4"
  }
 },
 "nbformat": 4,
 "nbformat_minor": 5
}
