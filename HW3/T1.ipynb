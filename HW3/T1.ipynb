{
 "cells": [
  {
   "cell_type": "code",
   "execution_count": null,
   "id": "9135101e",
   "metadata": {},
   "outputs": [],
   "source": [
    "import pandas as pd\n",
    "\n",
    "df = pd.read_csv(\"Electronic_sales_Sep2023-Sep2024.csv\", sep=\",\")\n",
    "\n",
    "# предпочитаемый метод оплаты \n",
    "cols = df[[\"Customer ID\", \"Payment Method\"]]\n",
    "preferred_payment_method = cols.groupby(\"Customer ID\")[\"Payment Method\"].agg(\n",
    "    lambda x: x.value_counts().index[0]\n",
    ").reset_index()\n",
    "\n",
    "preferred_payment_method.columns = [\"Customer ID\", \"Preferred Payment Method\"]\n",
    "\n",
    "print(preferred_payment_method)\n"
   ]
  },
  {
   "cell_type": "code",
   "execution_count": null,
   "id": "06d2193b",
   "metadata": {},
   "outputs": [],
   "source": [
    "# общие траты\n",
    "cols = df[[\"Customer ID\", \"Total Price\"]]\n",
    "total_expenses = cols.groupby(\"Customer ID\")[\"Total Price\"].sum().reset_index()\n",
    "total_expenses.columns = [\"Customer ID\", \"Total Expenses\"]\n",
    "print(total_expenses)"
   ]
  },
  {
   "cell_type": "code",
   "execution_count": null,
   "id": "28e414ca",
   "metadata": {},
   "outputs": [],
   "source": [
    "# количество денег, потраченных на дополнительные услуги и аксессуары\n",
    "cols = df[[\"Customer ID\", \"Add-on Total\"]]\n",
    "add_ons = cols.groupby(\"Customer ID\")[\"Add-on Total\"].sum().reset_index()\n",
    "add_ons.columns = [\"Customer ID\", \"Add-on Expenses\"]\n",
    "print(add_ons)"
   ]
  }
 ],
 "metadata": {
  "kernelspec": {
   "display_name": "de_env (3.12.4)",
   "language": "python",
   "name": "python3"
  },
  "language_info": {
   "codemirror_mode": {
    "name": "ipython",
    "version": 3
   },
   "file_extension": ".py",
   "mimetype": "text/x-python",
   "name": "python",
   "nbconvert_exporter": "python",
   "pygments_lexer": "ipython3",
   "version": "3.12.4"
  }
 },
 "nbformat": 4,
 "nbformat_minor": 5
}
