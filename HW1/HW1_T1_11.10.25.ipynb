{
 "cells": [
  {
   "cell_type": "code",
   "execution_count": null,
   "id": "30bc7382-4b25-4a7a-a0a8-863bc5a9b69a",
   "metadata": {},
   "outputs": [],
   "source": [
    "import json\n",
    "\n",
    "purchases = {}\n",
    "with open(file=\"purchase_log.txt\", mode=\"r\", encoding=\"utf-8\") as file:\n",
    "    next(file)\n",
    "    for line in file:\n",
    "        data = json.loads(line)\n",
    "        purchases[data[\"user_id\"]] = data[\"category\"]\n",
    "\n",
    "for key, value in purchases.items():\n",
    "    print(key, value)"
   ]
  }
 ],
 "metadata": {
  "kernelspec": {
   "display_name": "de_env (3.12.4)",
   "language": "python",
   "name": "python3"
  },
  "language_info": {
   "codemirror_mode": {
    "name": "ipython",
    "version": 3
   },
   "file_extension": ".py",
   "mimetype": "text/x-python",
   "name": "python",
   "nbconvert_exporter": "python",
   "pygments_lexer": "ipython3",
   "version": "3.12.4"
  }
 },
 "nbformat": 4,
 "nbformat_minor": 5
}
