{
 "cells": [
  {
   "cell_type": "code",
   "execution_count": null,
   "id": "6cd03d07-e645-4ffb-b39b-9419349a0bd7",
   "metadata": {},
   "outputs": [],
   "source": [
    "import json\n",
    "import csv\n",
    "\n",
    "purchases = {}\n",
    "with open(file=\"purchase_log.txt\", mode=\"r\", encoding=\"utf-8\") as file:\n",
    "    next(file)\n",
    "    for line in file:\n",
    "        data = json.loads(line)\n",
    "        purchases[data[\"user_id\"]] = data[\"category\"]\n",
    "\n",
    "with open(\"visit_log (2).csv\", \"r\", encoding=\"utf-8\", newline='') as visit_log:\n",
    "    with open(\"funnel.csv\", \"w\", encoding=\"utf-8\", newline='') as funnel:\n",
    "        next(visit_log)\n",
    "        funnel.write(\"user_id,source,category\\n\")\n",
    "        for line in visit_log:\n",
    "            user_id = line.split(\",\")[0]\n",
    "            if user_id in purchases.keys():\n",
    "                row = f\"{line[:-1]},{purchases[user_id]}\\n\"\n",
    "                funnel.write(row)\n",
    "\n",
    "with open(\"funnel.csv\", \"r\", encoding=\"utf-8\", newline='') as funnel:\n",
    "    next(funnel)\n",
    "    for line in funnel:\n",
    "        print(line)\n"
   ]
  }
 ],
 "metadata": {
  "kernelspec": {
   "display_name": "de_env (3.12.4)",
   "language": "python",
   "name": "python3"
  },
  "language_info": {
   "codemirror_mode": {
    "name": "ipython",
    "version": 3
   },
   "file_extension": ".py",
   "mimetype": "text/x-python",
   "name": "python",
   "nbconvert_exporter": "python",
   "pygments_lexer": "ipython3",
   "version": "3.12.4"
  }
 },
 "nbformat": 4,
 "nbformat_minor": 5
}
