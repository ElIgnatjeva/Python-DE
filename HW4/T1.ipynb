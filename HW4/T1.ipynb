{
 "cells": [
  {
   "cell_type": "code",
   "execution_count": null,
   "id": "b19d5489",
   "metadata": {},
   "outputs": [],
   "source": [
    "import re\n",
    "\n",
    "def main():\n",
    "    print(validate(input()))\n",
    "\n",
    "def validate(car_id: str) -> str:\n",
    "    pattern = r\"[АВЕКМНОРСТУХABEKMHOPCTYX]{1}\\d{3}[АВЕКМНОРСТУХABEKMHOPCTYX]{2}(\\d{2}|\\d{3})\"\n",
    "    match = re.match(pattern, car_id)\n",
    "    if match:\n",
    "        number = car_id[:6]\n",
    "        region = car_id[6:]\n",
    "        return f\"Результат: Номер {number} валиден. Регион: {region}.\"\n",
    "    else:\n",
    "        return \"Результат: Номер не валиден.\"\n",
    "\n",
    "main()"
   ]
  }
 ],
 "metadata": {
  "kernelspec": {
   "display_name": "de_env (3.12.4)",
   "language": "python",
   "name": "python3"
  },
  "language_info": {
   "codemirror_mode": {
    "name": "ipython",
    "version": 3
   },
   "file_extension": ".py",
   "mimetype": "text/x-python",
   "name": "python",
   "nbconvert_exporter": "python",
   "pygments_lexer": "ipython3",
   "version": "3.12.4"
  }
 },
 "nbformat": 4,
 "nbformat_minor": 5
}
