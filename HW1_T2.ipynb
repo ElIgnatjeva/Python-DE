{
 "cells": [
  {
   "cell_type": "code",
   "execution_count": null,
   "id": "2ef44cd0-3da4-4a6d-8303-23ea8dbbacf1",
   "metadata": {},
   "outputs": [],
   "source": [
    "def main():\n",
    "    number = int(input())\n",
    "    \n",
    "    number_length = len(str(number))\n",
    "    if number_length != 6:\n",
    "        print(\"Число не шестизначное\")\n",
    "    \n",
    "    sum_1 = sum_parts(int(str(number)[0:3]))\n",
    "    sum_2 = sum_parts(int(str(number)[3:6]))\n",
    "\n",
    "    print(sum_1, sum_2)\n",
    "    \n",
    "    if sum_1 == sum_2:\n",
    "        print(\"Счастливый билет\")\n",
    "    else:\n",
    "        print(\"Несчастливый билет\")\n",
    "\n",
    "def sum_parts(number):\n",
    "    return sum(int(digit) for digit in str(number))\n",
    "\n",
    "main()"
   ]
  }
 ],
 "metadata": {
  "kernelspec": {
   "display_name": "Python 3 (ipykernel)",
   "language": "python",
   "name": "python3"
  },
  "language_info": {
   "codemirror_mode": {
    "name": "ipython",
    "version": 3
   },
   "file_extension": ".py",
   "mimetype": "text/x-python",
   "name": "python",
   "nbconvert_exporter": "python",
   "pygments_lexer": "ipython3",
   "version": "3.12.4"
  }
 },
 "nbformat": 4,
 "nbformat_minor": 5
}
