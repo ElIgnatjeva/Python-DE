{
 "cells": [
  {
   "cell_type": "code",
   "execution_count": null,
   "id": "c00f7ed3-22a1-44f2-948d-1694312c7e5a",
   "metadata": {
    "scrolled": true
   },
   "outputs": [],
   "source": [
    "from datetime import datetime, timedelta\n",
    "\n",
    "def main():\n",
    "    start_date = input()\n",
    "    end_date = input()\n",
    "    print(date_range(start_date, end_date))\n",
    "\n",
    "def date_range(start_date, end_date):\n",
    "    data = []\n",
    "    try:\n",
    "        sd = datetime.strptime(start_date, \"%Y-%m-%d\")\n",
    "        ed = datetime.strptime(end_date, \"%Y-%m-%d\")\n",
    "    except (ValueError, TypeError):\n",
    "        return data\n",
    "    if sd > ed:\n",
    "        return data\n",
    "    while sd <= ed:\n",
    "        data.append(sd.strftime(\"%Y-%m-%d\"))\n",
    "        next_date = sd + timedelta(days=1)\n",
    "        sd = next_date\n",
    "    return data\n",
    "\n",
    "main()"
   ]
  }
 ],
 "metadata": {
  "kernelspec": {
   "display_name": "de_env (3.12.4)",
   "language": "python",
   "name": "python3"
  },
  "language_info": {
   "codemirror_mode": {
    "name": "ipython",
    "version": 3
   },
   "file_extension": ".py",
   "mimetype": "text/x-python",
   "name": "python",
   "nbconvert_exporter": "python",
   "pygments_lexer": "ipython3",
   "version": "3.12.4"
  }
 },
 "nbformat": 4,
 "nbformat_minor": 5
}
