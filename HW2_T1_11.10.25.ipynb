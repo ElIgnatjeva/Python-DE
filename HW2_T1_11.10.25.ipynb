{
 "cells": [
  {
   "cell_type": "code",
   "execution_count": 20,
   "id": "67cf39c4-71f4-492b-865b-3eb3af156f76",
   "metadata": {},
   "outputs": [
    {
     "name": "stdout",
     "output_type": "stream",
     "text": [
      "2002-10-02 00:00:00\n",
      "2013-10-11 00:00:00\n",
      "1977-08-18 00:00:00\n"
     ]
    }
   ],
   "source": [
    "from datetime import datetime\n",
    "\n",
    "newspapers = [\n",
    "    \"The Moscow Times - Wednesday, October 2, 2002\",\n",
    "    \"The Guardian - Friday, 11.10.13\",\n",
    "    \"Daily News - Thursday, 18 August 1977\",\n",
    "]\n",
    "\n",
    "for line in newspapers:\n",
    "    data = line.split(\" - \")\n",
    "    if data[0] == \"The Moscow Times\":\n",
    "        obj_date = datetime.strptime(data[1], \"%A, %B %d, %Y\")\n",
    "    elif data[0] == \"The Guardian\":\n",
    "        obj_date = datetime.strptime(data[1], \"%A, %d.%m.%y\")\n",
    "    elif data[0] == \"Daily News\":\n",
    "        obj_date = datetime.strptime(data[1], \"%A, %d %B %Y\")\n",
    "    print(obj_date)"
   ]
  }
 ],
 "metadata": {
  "kernelspec": {
   "display_name": "Python 3 (ipykernel)",
   "language": "python",
   "name": "python3"
  },
  "language_info": {
   "codemirror_mode": {
    "name": "ipython",
    "version": 3
   },
   "file_extension": ".py",
   "mimetype": "text/x-python",
   "name": "python",
   "nbconvert_exporter": "python",
   "pygments_lexer": "ipython3",
   "version": "3.12.4"
  }
 },
 "nbformat": 4,
 "nbformat_minor": 5
}
